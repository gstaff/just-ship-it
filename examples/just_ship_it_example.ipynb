{
  "nbformat": 4,
  "nbformat_minor": 0,
  "metadata": {
    "colab": {
      "name": "just_ship_it_example.ipynb",
      "version": "0.3.2",
      "provenance": [],
      "collapsed_sections": []
    },
    "kernelspec": {
      "name": "python3",
      "display_name": "Python 3"
    }
  },
  "cells": [
    {
      "metadata": {
        "id": "2iRpnkQEarkN",
        "colab_type": "code",
        "colab": {}
      },
      "cell_type": "code",
      "source": [
        "!pip install just-ship-it\n",
        "!pip install flask==0.12.2  # Newer versions of Flask have an issue running in\n",
        "                            # notebooks, see https://stackoverflow.com/questions/51180917/python-flask-unsupportedoperation-not-writable"
      ],
      "execution_count": 0,
      "outputs": []
    },
    {
      "metadata": {
        "id": "Pwn_ANPHnQrf",
        "colab_type": "code",
        "colab": {}
      },
      "cell_type": "code",
      "source": [
        "# just_ship_it_example.py\n",
        "def greet(name):\n",
        "    \"\"\"Greets you by name!\"\"\"\n",
        "    return 'Hello {name}!'.format(name=name)\n",
        "\n",
        "def hello():\n",
        "    return {'hello': 'world'}"
      ],
      "execution_count": 0,
      "outputs": []
    },
    {
      "metadata": {
        "id": "0Zk8YdkGava0",
        "colab_type": "code",
        "colab": {}
      },
      "cell_type": "code",
      "source": [
        "if __name__ == '__main__':\n",
        "    from just_ship_it import ship_it\n",
        "    ship_it()"
      ],
      "execution_count": 0,
      "outputs": []
    }
  ]
}